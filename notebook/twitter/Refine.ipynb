{
 "cells": [
  {
   "cell_type": "markdown",
   "metadata": {},
   "source": [
    "# Refine the Data"
   ]
  },
  {
   "cell_type": "code",
   "execution_count": 2,
   "metadata": {
    "collapsed": true
   },
   "outputs": [],
   "source": [
    "import pandas as pd"
   ]
  },
  {
   "cell_type": "code",
   "execution_count": 4,
   "metadata": {
    "collapsed": false
   },
   "outputs": [],
   "source": [
    "df = pd.read_csv('tweets.csv', sep=\"\\t\")"
   ]
  },
  {
   "cell_type": "code",
   "execution_count": 5,
   "metadata": {
    "collapsed": false
   },
   "outputs": [
    {
     "data": {
      "text/html": [
       "<div>\n",
       "<table border=\"1\" class=\"dataframe\">\n",
       "  <thead>\n",
       "    <tr style=\"text-align: right;\">\n",
       "      <th></th>\n",
       "      <th>created_at</th>\n",
       "      <th>screen_name</th>\n",
       "      <th>text</th>\n",
       "    </tr>\n",
       "  </thead>\n",
       "  <tbody>\n",
       "    <tr>\n",
       "      <th>0</th>\n",
       "      <td>Fri Nov 18 23:59:58 +0000 2016</td>\n",
       "      <td>arunprasad72</td>\n",
       "      <td>RT @Praveen_1singh: First the stone pelting st...</td>\n",
       "    </tr>\n",
       "    <tr>\n",
       "      <th>1</th>\n",
       "      <td>Fri Nov 18 23:59:49 +0000 2016</td>\n",
       "      <td>pranavkisu</td>\n",
       "      <td>RT @NewDelhiTimesIN: Is the #demonetization of...</td>\n",
       "    </tr>\n",
       "    <tr>\n",
       "      <th>2</th>\n",
       "      <td>Fri Nov 18 23:59:48 +0000 2016</td>\n",
       "      <td>bablumohan</td>\n",
       "      <td>RT @scoopwhoopnews: #BREAKING Banks across Ind...</td>\n",
       "    </tr>\n",
       "    <tr>\n",
       "      <th>3</th>\n",
       "      <td>Fri Nov 18 23:59:37 +0000 2016</td>\n",
       "      <td>NagrathRob</td>\n",
       "      <td>RT @DrGPradhan: .@ravishndtv of @ndtv spreadin...</td>\n",
       "    </tr>\n",
       "    <tr>\n",
       "      <th>4</th>\n",
       "      <td>Fri Nov 18 23:59:28 +0000 2016</td>\n",
       "      <td>ManishPrasa</td>\n",
       "      <td>RT @YesIamSaffron: जब भी #Demonetization व् का...</td>\n",
       "    </tr>\n",
       "  </tbody>\n",
       "</table>\n",
       "</div>"
      ],
      "text/plain": [
       "                       created_at   screen_name  \\\n",
       "0  Fri Nov 18 23:59:58 +0000 2016  arunprasad72   \n",
       "1  Fri Nov 18 23:59:49 +0000 2016    pranavkisu   \n",
       "2  Fri Nov 18 23:59:48 +0000 2016    bablumohan   \n",
       "3  Fri Nov 18 23:59:37 +0000 2016    NagrathRob   \n",
       "4  Fri Nov 18 23:59:28 +0000 2016   ManishPrasa   \n",
       "\n",
       "                                                text  \n",
       "0  RT @Praveen_1singh: First the stone pelting st...  \n",
       "1  RT @NewDelhiTimesIN: Is the #demonetization of...  \n",
       "2  RT @scoopwhoopnews: #BREAKING Banks across Ind...  \n",
       "3  RT @DrGPradhan: .@ravishndtv of @ndtv spreadin...  \n",
       "4  RT @YesIamSaffron: जब भी #Demonetization व् का...  "
      ]
     },
     "execution_count": 5,
     "metadata": {},
     "output_type": "execute_result"
    }
   ],
   "source": [
    "df.head()"
   ]
  },
  {
   "cell_type": "markdown",
   "metadata": {},
   "source": [
    "To get the date of the title - we will need the following algorithm\n",
    "- If the string contains **hours** we can consider it **1 day**\n",
    "- And if the string has **day**, we pick the number preceding the **day**\n",
    "\n",
    "To apply this algorithm, we need to be able to pick these words and digits from a string. For that we will use Regular Expression."
   ]
  },
  {
   "cell_type": "markdown",
   "metadata": {},
   "source": [
    "## Introduction to Regular Expression (Regex)\n",
    "\n",
    "Regular expression is a way of selecting text using symbols in a string.\n",
    "\n",
    "Refer to the following links for an interactive playground\n",
    "- [http://regexr.com](http://regexr.com/)\n",
    "- [http://regex101.com/](http://regex101.com/)"
   ]
  },
  {
   "cell_type": "code",
   "execution_count": 35,
   "metadata": {
    "collapsed": true
   },
   "outputs": [],
   "source": [
    "import re"
   ]
  },
  {
   "cell_type": "code",
   "execution_count": 36,
   "metadata": {
    "collapsed": true
   },
   "outputs": [],
   "source": [
    "test_string = \"Hello world, welcome to 2016.\""
   ]
  },
  {
   "cell_type": "code",
   "execution_count": 37,
   "metadata": {
    "collapsed": false
   },
   "outputs": [],
   "source": [
    "# We can pass the whole string and re.search will give the first occurence of the value\n",
    "# re.search - This function searches for first occurrence of RE pattern within string.\n",
    "a = re.search('Hello world, welcome to 2016',test_string)"
   ]
  },
  {
   "cell_type": "code",
   "execution_count": 38,
   "metadata": {
    "collapsed": false
   },
   "outputs": [
    {
     "data": {
      "text/plain": [
       "<_sre.SRE_Match object; span=(0, 28), match='Hello world, welcome to 2016'>"
      ]
     },
     "execution_count": 38,
     "metadata": {},
     "output_type": "execute_result"
    }
   ],
   "source": [
    "a"
   ]
  },
  {
   "cell_type": "code",
   "execution_count": 39,
   "metadata": {
    "collapsed": false
   },
   "outputs": [
    {
     "data": {
      "text/plain": [
       "'Hello world, welcome to 2016'"
      ]
     },
     "execution_count": 39,
     "metadata": {},
     "output_type": "execute_result"
    }
   ],
   "source": [
    "a.group()"
   ]
  },
  {
   "cell_type": "code",
   "execution_count": 40,
   "metadata": {
    "collapsed": false
   },
   "outputs": [
    {
     "data": {
      "text/plain": [
       "'H'"
      ]
     },
     "execution_count": 40,
     "metadata": {},
     "output_type": "execute_result"
    }
   ],
   "source": [
    "# Match the first letters in the string\n",
    "a = re.search('.',test_string)\n",
    "a.group()"
   ]
  },
  {
   "cell_type": "code",
   "execution_count": 41,
   "metadata": {
    "collapsed": false
   },
   "outputs": [
    {
     "data": {
      "text/plain": [
       "'Hello world, welcome to 2016.'"
      ]
     },
     "execution_count": 41,
     "metadata": {},
     "output_type": "execute_result"
    }
   ],
   "source": [
    "# Match all the letters in the string\n",
    "a = re.search('.*',test_string)\n",
    "a.group()"
   ]
  },
  {
   "cell_type": "code",
   "execution_count": 42,
   "metadata": {
    "collapsed": false
   },
   "outputs": [
    {
     "name": "stdout",
     "output_type": "stream",
     "text": [
      "<_sre.SRE_Match object; span=(0, 5), match='Hello'>\n"
     ]
    }
   ],
   "source": [
    "a = re.search('Hello',test_string)\n",
    "print(a)"
   ]
  },
  {
   "cell_type": "markdown",
   "metadata": {},
   "source": [
    "** Some basic symbols**\n",
    "\n",
    "**`?`**   \n",
    "\n",
    "The question mark indicates zero or one occurrences of the preceding element. For example, colou?r matches both \"color\" and \"colour\".\n",
    "\n",
    "**`\\*`**\n",
    "\n",
    "The asterisk indicates zero or more occurrences of the preceding element. For example, ab*c matches \"ac\", \"abc\", \"abbc\", \"abbbc\", and so on.\n",
    "\n",
    "**`\\+`**\t\n",
    "The plus sign indicates one or more occurrences of the preceding element. For example, ab+c matches \"abc\", \"abbc\", \"abbbc\", and so on, but not \"ac\".\n"
   ]
  },
  {
   "cell_type": "code",
   "execution_count": 43,
   "metadata": {
    "collapsed": false
   },
   "outputs": [
    {
     "name": "stdout",
     "output_type": "stream",
     "text": [
      "<_sre.SRE_Match object; span=(0, 2), match='He'>\n"
     ]
    }
   ],
   "source": [
    "a = re.search('\\w.',test_string)\n",
    "print(a)"
   ]
  },
  {
   "cell_type": "code",
   "execution_count": 44,
   "metadata": {
    "collapsed": false
   },
   "outputs": [
    {
     "name": "stdout",
     "output_type": "stream",
     "text": [
      "<_sre.SRE_Match object; span=(0, 5), match='Hello'>\n"
     ]
    }
   ],
   "source": [
    "a = re.search('\\w*',test_string)\n",
    "print(a)"
   ]
  },
  {
   "cell_type": "markdown",
   "metadata": {},
   "source": [
    "### Exercises"
   ]
  },
  {
   "cell_type": "markdown",
   "metadata": {},
   "source": [
    "Write a regex to remove URL link from the tweets"
   ]
  },
  {
   "cell_type": "code",
   "execution_count": 62,
   "metadata": {
    "collapsed": true
   },
   "outputs": [],
   "source": []
  }
 ],
 "metadata": {
  "anaconda-cloud": {},
  "kernelspec": {
   "display_name": "Python [default]",
   "language": "python",
   "name": "python3"
  },
  "language_info": {
   "codemirror_mode": {
    "name": "ipython",
    "version": 3
   },
   "file_extension": ".py",
   "mimetype": "text/x-python",
   "name": "python",
   "nbconvert_exporter": "python",
   "pygments_lexer": "ipython3",
   "version": "3.5.2"
  }
 },
 "nbformat": 4,
 "nbformat_minor": 0
}
